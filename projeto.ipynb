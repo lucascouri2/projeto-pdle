{
  "cells": [
    {
      "cell_type": "markdown",
      "metadata": {
        "id": "ENCz33JcbIqR"
      },
      "source": [
        "### Alunos:\n",
        "- **Laianna Lana Virginio da Silva** - *llvs2@cin.ufpe.br*\n",
        "- **Lucas Natan Correia Couri** - *lncc2@cin.ufpe.br*"
      ]
    },
    {
      "cell_type": "markdown",
      "metadata": {
        "id": "pCvnyS_gbc_v"
      },
      "source": [
        "# Bibliotecas"
      ]
    },
    {
      "cell_type": "code",
      "execution_count": 1,
      "metadata": {
        "id": "WsxxGJorETeg"
      },
      "outputs": [],
      "source": [
        "# O Google Colab é executado em um servidor remoto\n",
        "\n",
        "!apt-get install openjdk-8-jdk-headless -qq > /dev/null # Instalando o Java\n",
        "\n",
        "!wget -q https://dlcdn.apache.org/spark/spark-3.2.1/spark-3.2.1-bin-hadoop3.2.tgz # Baixando o Spark\n",
        "!tar xf spark-3.2.1-bin-hadoop3.2.tgz # Descompacta o arquivo spark-3.1.1-bin-hadoop3.2.tgz.\n",
        "\n",
        "!pip install -q findspark # Instalando o spark"
      ]
    },
    {
      "cell_type": "code",
      "execution_count": 2,
      "metadata": {
        "id": "6kF9OsbPbkXc"
      },
      "outputs": [],
      "source": [
        "import os # Para conseguir “manipular” o terminal e interagir como ele, você pode usar a biblioteca os.\n",
        "import findspark"
      ]
    },
    {
      "cell_type": "code",
      "execution_count": 3,
      "metadata": {
        "id": "7y0PNMQeEULi"
      },
      "outputs": [],
      "source": [
        "# configurando as variáveis de ambiente\n",
        "os.environ[\"JAVA_HOME\"] = \"/usr/lib/jvm/java-8-openjdk-amd64\"\n",
        "os.environ[\"SPARK_HOME\"] = \"/content/spark-3.2.1-bin-hadoop3.2\""
      ]
    },
    {
      "cell_type": "code",
      "execution_count": 4,
      "metadata": {
        "id": "k-n_2E-ZEUOC"
      },
      "outputs": [],
      "source": [
        "# Com as variáveis definidas, podemos utilizar o findspark que vai permitir a importação dos pacotes necessários para utilizar o PySpark.\n",
        "findspark.init()"
      ]
    },
    {
      "cell_type": "code",
      "execution_count": 5,
      "metadata": {
        "id": "_mGBqumScPWb"
      },
      "outputs": [],
      "source": [
        "from pyspark.sql import SparkSession\n",
        "from pyspark.sql import functions as func\n",
        "from pyspark.sql.functions import sum\n",
        "from pyspark.sql.types import *\n",
        "from pyspark.sql.functions import col"
      ]
    },
    {
      "cell_type": "code",
      "execution_count": 6,
      "metadata": {
        "colab": {
          "base_uri": "https://localhost:8080/",
          "height": 0
        },
        "id": "5QYyi8BREUQx",
        "outputId": "6bbd7c87-a907-4318-9bfc-8bf99e20a90c"
      },
      "outputs": [
        {
          "output_type": "execute_result",
          "data": {
            "text/plain": [
              "<pyspark.sql.session.SparkSession at 0x7fd8e7bcfc10>"
            ],
            "text/html": [
              "\n",
              "            <div>\n",
              "                <p><b>SparkSession - in-memory</b></p>\n",
              "                \n",
              "        <div>\n",
              "            <p><b>SparkContext</b></p>\n",
              "\n",
              "            <p><a href=\"http://1f46e3bb7ae7:4040\">Spark UI</a></p>\n",
              "\n",
              "            <dl>\n",
              "              <dt>Version</dt>\n",
              "                <dd><code>v3.2.1</code></dd>\n",
              "              <dt>Master</dt>\n",
              "                <dd><code>local[*]</code></dd>\n",
              "              <dt>AppName</dt>\n",
              "                <dd><code>Spark DataFrames parte 2</code></dd>\n",
              "            </dl>\n",
              "        </div>\n",
              "        \n",
              "            </div>\n",
              "        "
            ]
          },
          "metadata": {},
          "execution_count": 6
        }
      ],
      "source": [
        "spark = SparkSession.builder.appName(\"Spark DataFrames parte 2\").master(\"local[*]\").getOrCreate()\n",
        "spark"
      ]
    },
    {
      "cell_type": "markdown",
      "metadata": {
        "id": "q4GMjFGIbqPF"
      },
      "source": [
        "# Carregando os Dados"
      ]
    },
    {
      "cell_type": "code",
      "execution_count": 7,
      "metadata": {
        "colab": {
          "base_uri": "https://localhost:8080/"
        },
        "id": "3rvCZ8swEUS3",
        "outputId": "05f24a6b-b575-4199-b644-b7094231c88f"
      },
      "outputs": [
        {
          "output_type": "stream",
          "name": "stdout",
          "text": [
            "Drive already mounted at /content/drive; to attempt to forcibly remount, call drive.mount(\"/content/drive\", force_remount=True).\n"
          ]
        }
      ],
      "source": [
        "from google.colab import drive\n",
        "drive.mount('/content/drive')"
      ]
    },
    {
      "cell_type": "code",
      "execution_count": 8,
      "metadata": {
        "id": "mZsGtsSvKGFg"
      },
      "outputs": [],
      "source": [
        "diretorio = \"/content/drive/MyDrive/Colab Notebooks/11. PD em Larga Escala/dados\""
      ]
    },
    {
      "cell_type": "code",
      "execution_count": 9,
      "metadata": {
        "id": "ImUGyzJfDnR2"
      },
      "outputs": [],
      "source": [
        "# VAMOS COMEÇAR ENTÃO A IMPORTAÇÃO DOS ARQUIVOS. Vamos começar então pelo formato Parquet. \n",
        "\n",
        "pt7_parquet = spark.read.format(\"parquet\").load(f\"{diretorio}/pt7-hash.parquet\")\n",
        "\n",
        "#multi_parquet = spark.read.format(\"parquet\").load(f\"{diretorio}/pt7-multilabel\").withColumnRenamed(\"text64byte\", \"words\")"
      ]
    },
    {
      "cell_type": "markdown",
      "metadata": {
        "id": "dgslZ0-RM8zw"
      },
      "source": [
        "# Parte 1 (DataFrames)"
      ]
    },
    {
      "cell_type": "code",
      "execution_count": 10,
      "metadata": {
        "colab": {
          "base_uri": "https://localhost:8080/"
        },
        "id": "8sem_KfzFVdD",
        "outputId": "4d1fbaa5-7e76-42cd-dd8a-3a3ad201892f"
      },
      "outputs": [
        {
          "output_type": "stream",
          "name": "stdout",
          "text": [
            "+-----+--------------------+\n",
            "|label|            features|\n",
            "+-----+--------------------+\n",
            "|  .ao|(262144,[1758,215...|\n",
            "|  .ao|(262144,[1758,215...|\n",
            "|  .ao|(262144,[561,1758...|\n",
            "|  .ao|(262144,[1758,215...|\n",
            "|  .ao|(262144,[1758,215...|\n",
            "+-----+--------------------+\n",
            "only showing top 5 rows\n",
            "\n"
          ]
        },
        {
          "output_type": "execute_result",
          "data": {
            "text/plain": [
              "StructType(List(StructField(label,StringType,true),StructField(features,VectorUDT,true)))"
            ]
          },
          "metadata": {},
          "execution_count": 10
        }
      ],
      "source": [
        "pt7_parquet.show(5)\n",
        "pt7_parquet.schema"
      ]
    },
    {
      "cell_type": "code",
      "execution_count": 11,
      "metadata": {
        "colab": {
          "base_uri": "https://localhost:8080/"
        },
        "id": "DpTcnrOBGCbu",
        "outputId": "f8d43bae-689b-4e5d-da0b-725ed2387276"
      },
      "outputs": [
        {
          "output_type": "stream",
          "name": "stdout",
          "text": [
            "+--------------------+\n",
            "|            features|\n",
            "+--------------------+\n",
            "|(262144,[1758,215...|\n",
            "|(262144,[1758,215...|\n",
            "|(262144,[561,1758...|\n",
            "|(262144,[1758,215...|\n",
            "|(262144,[1758,215...|\n",
            "+--------------------+\n",
            "only showing top 5 rows\n",
            "\n"
          ]
        }
      ],
      "source": [
        "pt7_parquet.select(\"features\").show(5)"
      ]
    },
    {
      "cell_type": "code",
      "execution_count": 12,
      "metadata": {
        "colab": {
          "base_uri": "https://localhost:8080/"
        },
        "id": "t0wOh1iXMSOY",
        "outputId": "7d27117f-1e08-4928-8d90-3bcb402f7d29"
      },
      "outputs": [
        {
          "output_type": "stream",
          "name": "stdout",
          "text": [
            "+-----+--------------------+\n",
            "|label|            features|\n",
            "+-----+--------------------+\n",
            "|  .ao|(262144,[1758,215...|\n",
            "|  .ao|(262144,[1758,215...|\n",
            "|  .ao|(262144,[561,1758...|\n",
            "|  .ao|(262144,[1758,215...|\n",
            "|  .ao|(262144,[1758,215...|\n",
            "+-----+--------------------+\n",
            "only showing top 5 rows\n",
            "\n"
          ]
        }
      ],
      "source": [
        "pt7_parquet.where(func.col(\"label\") == \".ao\").show(5)"
      ]
    },
    {
      "cell_type": "code",
      "execution_count": 12,
      "metadata": {
        "id": "WM0q89BGNgT7"
      },
      "outputs": [],
      "source": [
        ""
      ]
    },
    {
      "cell_type": "markdown",
      "metadata": {
        "id": "bXc8dgM0NkEc"
      },
      "source": [
        "# Parte 2"
      ]
    },
    {
      "cell_type": "code",
      "execution_count": 13,
      "metadata": {
        "id": "GobTn9rSRcwA"
      },
      "outputs": [],
      "source": [
        "from pyspark.ml.classification import RandomForestClassifier\n",
        "from pyspark.ml.evaluation import MulticlassClassificationEvaluator\n",
        "from pyspark.ml.classification import RandomForestClassificationModel\n",
        "\n",
        "from pyspark.mllib.evaluation import BinaryClassificationMetrics\n",
        "\n",
        "from pyspark.ml.feature import StringIndexer\n",
        "from pyspark.sql.functions import col, when\n",
        "\n",
        "SEED = 42"
      ]
    },
    {
      "cell_type": "code",
      "source": [
        "from pyspark.ml import Pipeline\n",
        "from pyspark.ml.feature import IndexToString, StringIndexer, VectorIndexer"
      ],
      "metadata": {
        "id": "dq5JHx4bdxRD"
      },
      "execution_count": 14,
      "outputs": []
    },
    {
      "cell_type": "markdown",
      "source": [
        "## Codificando a Label pra Inteiro"
      ],
      "metadata": {
        "id": "y-hPnmBdF1SV"
      }
    },
    {
      "cell_type": "code",
      "source": [
        "# Index labels, adding metadata to the label column.\n",
        "# Fit on whole dataset to include all labels in index.\n",
        "labelIndexer = StringIndexer(inputCol = \"label\", outputCol = \"indexedLabel\").fit(pt7_parquet)"
      ],
      "metadata": {
        "id": "RWcamcc3d5gl"
      },
      "execution_count": 15,
      "outputs": []
    },
    {
      "cell_type": "markdown",
      "source": [
        "## Separando o Dataset em Treino e Teste"
      ],
      "metadata": {
        "id": "2cuGhz1cdnxn"
      }
    },
    {
      "cell_type": "code",
      "source": [
        "a, b = pt7_parquet.randomSplit(weights = [0.01, 0.3], seed = SEED)"
      ],
      "metadata": {
        "id": "duEVMWZw2Zra"
      },
      "execution_count": 16,
      "outputs": []
    },
    {
      "cell_type": "code",
      "execution_count": 17,
      "metadata": {
        "id": "hxw4w0nAReJS"
      },
      "outputs": [],
      "source": [
        "treino, teste = a.randomSplit(weights = [0.7, 0.3], seed = SEED)"
      ]
    },
    {
      "cell_type": "code",
      "source": [
        "print(f\"Total:  {a.count()}\\nTreino: {treino.count()}\\nTeste:  {teste.count()}\")"
      ],
      "metadata": {
        "colab": {
          "base_uri": "https://localhost:8080/"
        },
        "id": "Fa41G8zc2i70",
        "outputId": "9c91ce9b-ea61-435a-96a7-89890cb0f696"
      },
      "execution_count": 18,
      "outputs": [
        {
          "output_type": "stream",
          "name": "stdout",
          "text": [
            "Total:  568\n",
            "Treino: 408\n",
            "Teste:  160\n"
          ]
        }
      ]
    },
    {
      "cell_type": "code",
      "source": [
        "print(f\"Total:  {pt7_parquet.count()}\\nTreino: {treino.count()}\\nTeste:  {teste.count()}\")"
      ],
      "metadata": {
        "colab": {
          "base_uri": "https://localhost:8080/"
        },
        "id": "v2X-1nW7yPn4",
        "outputId": "70a5824d-7992-4d6b-d421-1e6276945330"
      },
      "execution_count": 19,
      "outputs": [
        {
          "output_type": "stream",
          "name": "stdout",
          "text": [
            "Total:  17014\n",
            "Treino: 408\n",
            "Teste:  160\n"
          ]
        }
      ]
    },
    {
      "cell_type": "markdown",
      "source": [
        "## Classificador"
      ],
      "metadata": {
        "id": "sWnyWcnLGJex"
      }
    },
    {
      "cell_type": "code",
      "source": [
        "# Train a RandomForest model.\n",
        "rf = RandomForestClassifier(labelCol = \"indexedLabel\", featuresCol = \"features\", numTrees = 10)"
      ],
      "metadata": {
        "id": "0awpuJ0v0G4m"
      },
      "execution_count": 20,
      "outputs": []
    },
    {
      "cell_type": "code",
      "source": [
        "# Convert indexed labels back to original labels.\n",
        "labelConverter = IndexToString(inputCol = \"prediction\", outputCol = \"predictedLabel\", labels = labelIndexer.labels)"
      ],
      "metadata": {
        "id": "GJTXw51FaA0R"
      },
      "execution_count": 21,
      "outputs": []
    },
    {
      "cell_type": "code",
      "source": [
        "# Chain indexers and forest in a Pipeline\n",
        "pipeline = Pipeline(stages = [labelIndexer, rf, labelConverter])"
      ],
      "metadata": {
        "id": "oYcBKhNqeB6W"
      },
      "execution_count": 22,
      "outputs": []
    },
    {
      "cell_type": "code",
      "source": [
        "# Train model.  This also runs the indexers.\n",
        "modelo = pipeline.fit(treino)"
      ],
      "metadata": {
        "id": "-VnHlqeJ1aB1"
      },
      "execution_count": 23,
      "outputs": []
    },
    {
      "cell_type": "code",
      "execution_count": 24,
      "metadata": {
        "id": "Mv0YwchPW71z",
        "colab": {
          "base_uri": "https://localhost:8080/"
        },
        "outputId": "f680e70a-4bab-4d22-d94b-8dcf4bbb14a1"
      },
      "outputs": [
        {
          "output_type": "stream",
          "name": "stdout",
          "text": [
            "PipelineModel_fc2968683a43\n"
          ]
        }
      ],
      "source": [
        "print(modelo) # apenas o sumário"
      ]
    },
    {
      "cell_type": "code",
      "source": [
        "# Make predictions.\n",
        "predicao = modelo.transform(teste)"
      ],
      "metadata": {
        "id": "h26Etd3T1l2n"
      },
      "execution_count": 25,
      "outputs": []
    },
    {
      "cell_type": "code",
      "source": [
        "# Select example rows to display.\n",
        "predicao.show(1)"
      ],
      "metadata": {
        "colab": {
          "base_uri": "https://localhost:8080/"
        },
        "id": "ZTgWEVUu2Gi8",
        "outputId": "66e48a50-5de8-4e7f-c9ee-1be56e80b849"
      },
      "execution_count": 26,
      "outputs": [
        {
          "output_type": "stream",
          "name": "stdout",
          "text": [
            "+-----+--------------------+------------+--------------------+--------------------+----------+--------------+\n",
            "|label|            features|indexedLabel|       rawPrediction|         probability|prediction|predictedLabel|\n",
            "+-----+--------------------+------------+--------------------+--------------------+----------+--------------+\n",
            "|  .ao|(262144,[188,452,...|         3.0|[3.47526147732583...|[0.34752614773258...|       0.0|           .br|\n",
            "+-----+--------------------+------------+--------------------+--------------------+----------+--------------+\n",
            "only showing top 1 row\n",
            "\n"
          ]
        }
      ]
    },
    {
      "cell_type": "markdown",
      "source": [
        "## Salvando e Carregando o Modelo"
      ],
      "metadata": {
        "id": "8xfiz-tEFW66"
      }
    },
    {
      "cell_type": "code",
      "execution_count": 27,
      "metadata": {
        "id": "L0HEhfaUW7zv"
      },
      "outputs": [],
      "source": [
        "#modelo.save(f\"{diretorio}/modelo\")"
      ]
    },
    {
      "cell_type": "code",
      "execution_count": 28,
      "metadata": {
        "id": "GSbd23BcW7xl"
      },
      "outputs": [],
      "source": [
        "#modelo_load = RandomForestClassificationModel.load(f\"{diretorio}/modelo\")"
      ]
    },
    {
      "cell_type": "markdown",
      "source": [
        "## Acurácia"
      ],
      "metadata": {
        "id": "gGhyi9p4FJR7"
      }
    },
    {
      "cell_type": "code",
      "execution_count": 29,
      "metadata": {
        "id": "xFZKmsHdW77w",
        "colab": {
          "base_uri": "https://localhost:8080/"
        },
        "outputId": "7264d54b-0996-4045-b828-884da42aeb95"
      },
      "outputs": [
        {
          "output_type": "stream",
          "name": "stdout",
          "text": [
            "Acurácia = 0.6375\n"
          ]
        }
      ],
      "source": [
        "# Select (prediction, true label) and compute test error\n",
        "avaliador_acuracia = MulticlassClassificationEvaluator(labelCol = \"indexedLabel\", predictionCol = \"prediction\", metricName = \"accuracy\")\n",
        "acuracia = avaliador_acuracia.evaluate(predicao)\n",
        "\n",
        "print(f\"Acurácia = {acuracia}\")"
      ]
    },
    {
      "cell_type": "markdown",
      "source": [
        "## F1"
      ],
      "metadata": {
        "id": "VW-bNs1sejOj"
      }
    },
    {
      "cell_type": "code",
      "source": [
        "evaluator_f1 = MulticlassClassificationEvaluator(labelCol = \"indexedLabel\", predictionCol = \"prediction\", metricName = \"f1\")\n",
        "\n",
        "f1 = evaluator_f1.evaluate(predicao)\n",
        "print(f\"F1 = {f1}\")"
      ],
      "metadata": {
        "colab": {
          "base_uri": "https://localhost:8080/"
        },
        "id": "Xs2NRf37ekmD",
        "outputId": "2b548597-e51b-4095-86b0-378a93041539"
      },
      "execution_count": 30,
      "outputs": [
        {
          "output_type": "stream",
          "name": "stdout",
          "text": [
            "F1 = 0.5791635576705367\n"
          ]
        }
      ]
    },
    {
      "cell_type": "markdown",
      "source": [
        "## Sumário"
      ],
      "metadata": {
        "id": "iT_I1UgsfGLn"
      }
    },
    {
      "cell_type": "code",
      "source": [
        "rf_model = modelo.stages[2]\n",
        "print(rf_model)  # summary only"
      ],
      "metadata": {
        "colab": {
          "base_uri": "https://localhost:8080/"
        },
        "id": "kL0UmC1pfG5E",
        "outputId": "afa53282-a4b3-4d98-e7b7-1a34b96c692a"
      },
      "execution_count": 31,
      "outputs": [
        {
          "output_type": "stream",
          "name": "stdout",
          "text": [
            "IndexToString_f1e1bae7ecf9\n"
          ]
        }
      ]
    },
    {
      "cell_type": "markdown",
      "source": [
        "## Curva ROC"
      ],
      "metadata": {
        "id": "k-FewJXHFFsx"
      }
    },
    {
      "cell_type": "code",
      "source": [
        "#avaliador_roc = BinaryClassificationEvaluator(labelCol = \"label\", rawPredictionCol = \"prediction\", metricName = 'areaUnderROC')\n",
        "#asc_roc = avaliador_roc.evaluate(predicao)\n",
        "\n",
        "#print(f\"Área Sob a Curva ROC = {asc_roc}\")"
      ],
      "metadata": {
        "id": "Bud8A0md9tgz"
      },
      "execution_count": 32,
      "outputs": []
    }
  ],
  "metadata": {
    "colab": {
      "collapsed_sections": [
        "ENCz33JcbIqR",
        "pCvnyS_gbc_v",
        "q4GMjFGIbqPF",
        "k-FewJXHFFsx"
      ],
      "name": "Spark.ipynb",
      "provenance": []
    },
    "kernelspec": {
      "display_name": "Python 3",
      "name": "python3"
    },
    "language_info": {
      "name": "python"
    }
  },
  "nbformat": 4,
  "nbformat_minor": 0
}
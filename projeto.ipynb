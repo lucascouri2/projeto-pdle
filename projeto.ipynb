{
  "cells": [
    {
      "cell_type": "markdown",
      "metadata": {
        "id": "ENCz33JcbIqR"
      },
      "source": [
        "### Alunos:\n",
        "- **Laianna Lana Virginio da Silva** - *llvs2@cin.ufpe.br*\n",
        "- **Lucas Natan Correia Couri** - *lncc2@cin.ufpe.br*"
      ]
    },
    {
      "cell_type": "markdown",
      "metadata": {
        "id": "pCvnyS_gbc_v"
      },
      "source": [
        "# Bibliotecas"
      ]
    },
    {
      "cell_type": "code",
      "execution_count": 1,
      "metadata": {
        "id": "WsxxGJorETeg"
      },
      "outputs": [],
      "source": [
        "# O Google Colab é executado em um servidor remoto\n",
        "\n",
        "!apt-get install openjdk-8-jdk-headless -qq > /dev/null # Instalando o Java\n",
        "\n",
        "!wget -q https://dlcdn.apache.org/spark/spark-3.2.1/spark-3.2.1-bin-hadoop3.2.tgz # Baixando o Spark\n",
        "!tar xf spark-3.2.1-bin-hadoop3.2.tgz # Descompacta o arquivo spark-3.1.1-bin-hadoop3.2.tgz.\n",
        "\n",
        "!pip install -q findspark # Instalando o spark"
      ]
    },
    {
      "cell_type": "code",
      "execution_count": 2,
      "metadata": {
        "id": "6kF9OsbPbkXc"
      },
      "outputs": [],
      "source": [
        "import os # Para conseguir “manipular” o terminal e interagir como ele, você pode usar a biblioteca os.\n",
        "import findspark"
      ]
    },
    {
      "cell_type": "code",
      "execution_count": 3,
      "metadata": {
        "id": "7y0PNMQeEULi"
      },
      "outputs": [],
      "source": [
        "# configurando as variáveis de ambiente\n",
        "os.environ[\"JAVA_HOME\"] = \"/usr/lib/jvm/java-8-openjdk-amd64\"\n",
        "os.environ[\"SPARK_HOME\"] = \"/content/spark-3.2.1-bin-hadoop3.2\""
      ]
    },
    {
      "cell_type": "code",
      "execution_count": 4,
      "metadata": {
        "id": "k-n_2E-ZEUOC"
      },
      "outputs": [],
      "source": [
        "# Com as variáveis definidas, podemos utilizar o findspark que vai permitir a importação dos pacotes necessários para utilizar o PySpark.\n",
        "findspark.init()"
      ]
    },
    {
      "cell_type": "code",
      "execution_count": 5,
      "metadata": {
        "id": "_mGBqumScPWb"
      },
      "outputs": [],
      "source": [
        "from pyspark.sql import SparkSession\n",
        "from pyspark.sql import functions as func\n",
        "from pyspark.sql.functions import sum\n",
        "from pyspark.sql.types import *\n",
        "from pyspark.sql.functions import col"
      ]
    },
    {
      "cell_type": "code",
      "execution_count": 6,
      "metadata": {
        "colab": {
          "base_uri": "https://localhost:8080/",
          "height": 0
        },
        "id": "5QYyi8BREUQx",
        "outputId": "1270e99f-4add-4d26-e98b-b4bb9f2eceb5"
      },
      "outputs": [
        {
          "output_type": "execute_result",
          "data": {
            "text/plain": [
              "<pyspark.sql.session.SparkSession at 0x7f5081b46350>"
            ],
            "text/html": [
              "\n",
              "            <div>\n",
              "                <p><b>SparkSession - in-memory</b></p>\n",
              "                \n",
              "        <div>\n",
              "            <p><b>SparkContext</b></p>\n",
              "\n",
              "            <p><a href=\"http://378549f8a070:4040\">Spark UI</a></p>\n",
              "\n",
              "            <dl>\n",
              "              <dt>Version</dt>\n",
              "                <dd><code>v3.2.1</code></dd>\n",
              "              <dt>Master</dt>\n",
              "                <dd><code>local[*]</code></dd>\n",
              "              <dt>AppName</dt>\n",
              "                <dd><code>Spark DataFrames parte 2</code></dd>\n",
              "            </dl>\n",
              "        </div>\n",
              "        \n",
              "            </div>\n",
              "        "
            ]
          },
          "metadata": {},
          "execution_count": 6
        }
      ],
      "source": [
        "spark = SparkSession.builder.appName(\"Spark DataFrames parte 2\").master(\"local[*]\").getOrCreate()\n",
        "spark"
      ]
    },
    {
      "cell_type": "markdown",
      "metadata": {
        "id": "q4GMjFGIbqPF"
      },
      "source": [
        "# Carregando os Dados"
      ]
    },
    {
      "cell_type": "code",
      "execution_count": 7,
      "metadata": {
        "colab": {
          "base_uri": "https://localhost:8080/"
        },
        "id": "3rvCZ8swEUS3",
        "outputId": "a6d8d612-5ff7-49ed-83fc-7ae32ba0f599"
      },
      "outputs": [
        {
          "output_type": "stream",
          "name": "stdout",
          "text": [
            "Drive already mounted at /content/drive; to attempt to forcibly remount, call drive.mount(\"/content/drive\", force_remount=True).\n"
          ]
        }
      ],
      "source": [
        "from google.colab import drive\n",
        "drive.mount('/content/drive')"
      ]
    },
    {
      "cell_type": "code",
      "execution_count": 8,
      "metadata": {
        "id": "mZsGtsSvKGFg"
      },
      "outputs": [],
      "source": [
        "diretorio = \"/content/drive/MyDrive/Colab Notebooks/11. PD em Larga Escala/dados\""
      ]
    },
    {
      "cell_type": "code",
      "execution_count": 9,
      "metadata": {
        "id": "ImUGyzJfDnR2"
      },
      "outputs": [],
      "source": [
        "# VAMOS COMEÇAR ENTÃO A IMPORTAÇÃO DOS ARQUIVOS. Vamos começar então pelo formato Parquet. \n",
        "\n",
        "pt7_parquet = spark.read.format(\"parquet\").load(f\"{diretorio}/pt7-hash.parquet\")\n",
        "\n",
        "#multi_parquet = spark.read.format(\"parquet\").load(f\"{diretorio}/pt7-multilabel\").withColumnRenamed(\"text64byte\", \"words\")"
      ]
    },
    {
      "cell_type": "markdown",
      "metadata": {
        "id": "dgslZ0-RM8zw"
      },
      "source": [
        "# Parte 1 (DataFrames)"
      ]
    },
    {
      "cell_type": "code",
      "execution_count": 10,
      "metadata": {
        "colab": {
          "base_uri": "https://localhost:8080/"
        },
        "id": "8sem_KfzFVdD",
        "outputId": "f91b55ea-14d1-4a47-b185-cdcc3e8bb1ec"
      },
      "outputs": [
        {
          "output_type": "stream",
          "name": "stdout",
          "text": [
            "+-----+--------------------+\n",
            "|label|            features|\n",
            "+-----+--------------------+\n",
            "|  .ao|(262144,[1758,215...|\n",
            "|  .ao|(262144,[1758,215...|\n",
            "|  .ao|(262144,[561,1758...|\n",
            "|  .ao|(262144,[1758,215...|\n",
            "|  .ao|(262144,[1758,215...|\n",
            "+-----+--------------------+\n",
            "only showing top 5 rows\n",
            "\n"
          ]
        },
        {
          "output_type": "execute_result",
          "data": {
            "text/plain": [
              "StructType(List(StructField(label,StringType,true),StructField(features,VectorUDT,true)))"
            ]
          },
          "metadata": {},
          "execution_count": 10
        }
      ],
      "source": [
        "pt7_parquet.show(5)\n",
        "pt7_parquet.schema"
      ]
    },
    {
      "cell_type": "code",
      "execution_count": 11,
      "metadata": {
        "colab": {
          "base_uri": "https://localhost:8080/"
        },
        "id": "DpTcnrOBGCbu",
        "outputId": "b5d27bee-ac01-4344-b595-8c3c30efc63f"
      },
      "outputs": [
        {
          "output_type": "stream",
          "name": "stdout",
          "text": [
            "+--------------------+\n",
            "|            features|\n",
            "+--------------------+\n",
            "|(262144,[1758,215...|\n",
            "|(262144,[1758,215...|\n",
            "|(262144,[561,1758...|\n",
            "|(262144,[1758,215...|\n",
            "|(262144,[1758,215...|\n",
            "+--------------------+\n",
            "only showing top 5 rows\n",
            "\n"
          ]
        }
      ],
      "source": [
        "pt7_parquet.select(\"features\").show(5)"
      ]
    },
    {
      "cell_type": "code",
      "execution_count": 12,
      "metadata": {
        "colab": {
          "base_uri": "https://localhost:8080/"
        },
        "id": "t0wOh1iXMSOY",
        "outputId": "e09b1a4d-1eaa-4c06-aa9d-7bd29141da24"
      },
      "outputs": [
        {
          "output_type": "stream",
          "name": "stdout",
          "text": [
            "+-----+--------------------+\n",
            "|label|            features|\n",
            "+-----+--------------------+\n",
            "|  .ao|(262144,[1758,215...|\n",
            "|  .ao|(262144,[1758,215...|\n",
            "|  .ao|(262144,[561,1758...|\n",
            "|  .ao|(262144,[1758,215...|\n",
            "|  .ao|(262144,[1758,215...|\n",
            "+-----+--------------------+\n",
            "only showing top 5 rows\n",
            "\n"
          ]
        }
      ],
      "source": [
        "pt7_parquet.where(func.col(\"label\") == \".ao\").show(5)"
      ]
    },
    {
      "cell_type": "code",
      "execution_count": 12,
      "metadata": {
        "id": "WM0q89BGNgT7"
      },
      "outputs": [],
      "source": [
        ""
      ]
    },
    {
      "cell_type": "markdown",
      "metadata": {
        "id": "bXc8dgM0NkEc"
      },
      "source": [
        "# Parte 2"
      ]
    },
    {
      "cell_type": "code",
      "execution_count": 16,
      "metadata": {
        "id": "GobTn9rSRcwA"
      },
      "outputs": [],
      "source": [
        "from pyspark.ml.classification import RandomForestClassifier\n",
        "from pyspark.ml.evaluation import MulticlassClassificationEvaluator\n",
        "from pyspark.ml.classification import RandomForestClassificationModel\n",
        "\n",
        "from pyspark.mllib.evaluation import BinaryClassificationMetrics\n",
        "\n",
        "from pyspark.ml.feature import StringIndexer\n",
        "from pyspark.sql.functions import col, when\n",
        "\n",
        "SEED = 42"
      ]
    },
    {
      "cell_type": "markdown",
      "source": [
        "## Codificando a Label pra Inteiro"
      ],
      "metadata": {
        "id": "y-hPnmBdF1SV"
      }
    },
    {
      "cell_type": "code",
      "execution_count": 67,
      "metadata": {
        "id": "NEVqGHRAWnoR"
      },
      "outputs": [],
      "source": [
        "pt7_int = pt7_parquet.withColumn(\"label\",\n",
        "                     when(col(\"label\")=='.br', 1.0)\n",
        "                     .otherwise(0.0))"
      ]
    },
    {
      "cell_type": "code",
      "source": [
        "a, b = pt7_int.randomSplit(weights = [0.01, 0.3], seed = SEED)"
      ],
      "metadata": {
        "id": "duEVMWZw2Zra"
      },
      "execution_count": 68,
      "outputs": []
    },
    {
      "cell_type": "code",
      "execution_count": 69,
      "metadata": {
        "id": "hxw4w0nAReJS"
      },
      "outputs": [],
      "source": [
        "treino, teste = a.randomSplit(weights = [0.7, 0.3], seed = SEED)"
      ]
    },
    {
      "cell_type": "code",
      "source": [
        "print(f\"Total:  {a.count()}\\nTreino: {treino.count()}\\nTeste:  {teste.count()}\")"
      ],
      "metadata": {
        "colab": {
          "base_uri": "https://localhost:8080/"
        },
        "id": "Fa41G8zc2i70",
        "outputId": "905e1f83-4388-4a97-88fb-bd3d986fba05"
      },
      "execution_count": 70,
      "outputs": [
        {
          "output_type": "stream",
          "name": "stdout",
          "text": [
            "Total:  568\n",
            "Treino: 408\n",
            "Teste:  160\n"
          ]
        }
      ]
    },
    {
      "cell_type": "code",
      "source": [
        "print(f\"Total:  {pt7_parquet.count()}\\nTreino: {treino.count()}\\nTeste:  {teste.count()}\")"
      ],
      "metadata": {
        "colab": {
          "base_uri": "https://localhost:8080/"
        },
        "id": "v2X-1nW7yPn4",
        "outputId": "63b63acd-b23f-4fb0-bdc8-768a1f266405"
      },
      "execution_count": 71,
      "outputs": [
        {
          "output_type": "stream",
          "name": "stdout",
          "text": [
            "Total:  17014\n",
            "Treino: 408\n",
            "Teste:  160\n"
          ]
        }
      ]
    },
    {
      "cell_type": "code",
      "source": [
        "pt7_int.show()"
      ],
      "metadata": {
        "id": "urgN6hXt0shu"
      },
      "execution_count": null,
      "outputs": []
    },
    {
      "cell_type": "markdown",
      "source": [
        "## Classificador"
      ],
      "metadata": {
        "id": "sWnyWcnLGJex"
      }
    },
    {
      "cell_type": "code",
      "source": [
        "# Train a RandomForest model\n",
        "rf = RandomForestClassifier(labelCol = \"label\", featuresCol = \"features\", numTrees = 10)"
      ],
      "metadata": {
        "id": "0awpuJ0v0G4m"
      },
      "execution_count": 73,
      "outputs": []
    },
    {
      "cell_type": "code",
      "source": [
        "# Treino modelo. This also runs the indexers.\n",
        "modelo = rf.fit(treino)"
      ],
      "metadata": {
        "id": "-VnHlqeJ1aB1"
      },
      "execution_count": 74,
      "outputs": []
    },
    {
      "cell_type": "code",
      "execution_count": 78,
      "metadata": {
        "id": "Mv0YwchPW71z",
        "colab": {
          "base_uri": "https://localhost:8080/"
        },
        "outputId": "79cdf535-fa16-45f2-836f-4d6024a9c687"
      },
      "outputs": [
        {
          "output_type": "stream",
          "name": "stdout",
          "text": [
            "RandomForestClassificationModel: uid=RandomForestClassifier_d1d479bcf765, numTrees=10, numClasses=2, numFeatures=262144\n"
          ]
        }
      ],
      "source": [
        "print(modelo) # apenas o sumário"
      ]
    },
    {
      "cell_type": "code",
      "source": [
        "# Make predictions.\n",
        "predicao = modelo.transform(teste)"
      ],
      "metadata": {
        "id": "h26Etd3T1l2n"
      },
      "execution_count": 75,
      "outputs": []
    },
    {
      "cell_type": "code",
      "source": [
        "# Select example rows to display.\n",
        "predicao.show(1)"
      ],
      "metadata": {
        "colab": {
          "base_uri": "https://localhost:8080/"
        },
        "id": "ZTgWEVUu2Gi8",
        "outputId": "e033aefe-0916-4a53-d130-c7dfbbfb05eb"
      },
      "execution_count": 97,
      "outputs": [
        {
          "output_type": "stream",
          "name": "stdout",
          "text": [
            "+-----+--------------------+--------------------+--------------------+----------+\n",
            "|label|            features|       rawPrediction|         probability|prediction|\n",
            "+-----+--------------------+--------------------+--------------------+----------+\n",
            "|  0.0|(262144,[69,204,4...|[8.15358811970445...|[0.81535881197044...|       0.0|\n",
            "+-----+--------------------+--------------------+--------------------+----------+\n",
            "only showing top 1 row\n",
            "\n"
          ]
        }
      ]
    },
    {
      "cell_type": "markdown",
      "source": [
        "## Salvando e Carregando o Modelo"
      ],
      "metadata": {
        "id": "8xfiz-tEFW66"
      }
    },
    {
      "cell_type": "code",
      "execution_count": 80,
      "metadata": {
        "id": "L0HEhfaUW7zv"
      },
      "outputs": [],
      "source": [
        "#modelo.save(f\"{diretorio}/modelo\")"
      ]
    },
    {
      "cell_type": "code",
      "execution_count": 59,
      "metadata": {
        "id": "GSbd23BcW7xl"
      },
      "outputs": [],
      "source": [
        "#modelo_load = RandomForestClassificationModel.load(f\"{diretorio}/modelo\")"
      ]
    },
    {
      "cell_type": "markdown",
      "source": [
        "## Acurácia"
      ],
      "metadata": {
        "id": "gGhyi9p4FJR7"
      }
    },
    {
      "cell_type": "code",
      "execution_count": 114,
      "metadata": {
        "id": "xFZKmsHdW77w",
        "colab": {
          "base_uri": "https://localhost:8080/"
        },
        "outputId": "fc5036d9-89f8-4756-913b-fab95df5925d"
      },
      "outputs": [
        {
          "output_type": "stream",
          "name": "stdout",
          "text": [
            "Acurácia = 0.91875\n"
          ]
        }
      ],
      "source": [
        "# Select (prediction, true label) and compute test error\n",
        "avaliador_acuracia = MulticlassClassificationEvaluator(labelCol = \"label\", predictionCol = \"prediction\", metricName = \"accuracy\")\n",
        "acuracia = avaliador_acuracia.evaluate(predicao)\n",
        "\n",
        "print(f\"Acurácia = {acuracia}\")"
      ]
    },
    {
      "cell_type": "markdown",
      "source": [
        "## Curva ROC"
      ],
      "metadata": {
        "id": "k-FewJXHFFsx"
      }
    },
    {
      "cell_type": "code",
      "source": [
        "avaliador_roc = BinaryClassificationEvaluator(labelCol = \"label\", rawPredictionCol = \"prediction\", metricName = 'areaUnderROC')\n",
        "asc_roc = avaliador_roc.evaluate(predicao)\n",
        "\n",
        "print(f\"Área Sob a Curva ROC = {asc_roc}\")"
      ],
      "metadata": {
        "colab": {
          "base_uri": "https://localhost:8080/"
        },
        "id": "Bud8A0md9tgz",
        "outputId": "91735ffa-b4b9-4b1b-adec-125ff82dcb53"
      },
      "execution_count": 113,
      "outputs": [
        {
          "output_type": "stream",
          "name": "stdout",
          "text": [
            "Área Sob a Curva ROC = 0.9280510018214936\n"
          ]
        }
      ]
    }
  ],
  "metadata": {
    "colab": {
      "collapsed_sections": [
        "ENCz33JcbIqR",
        "pCvnyS_gbc_v",
        "q4GMjFGIbqPF",
        "dgslZ0-RM8zw",
        "8xfiz-tEFW66",
        "gGhyi9p4FJR7",
        "k-FewJXHFFsx"
      ],
      "name": "Spark.ipynb",
      "provenance": []
    },
    "kernelspec": {
      "display_name": "Python 3",
      "name": "python3"
    },
    "language_info": {
      "name": "python"
    }
  },
  "nbformat": 4,
  "nbformat_minor": 0
}